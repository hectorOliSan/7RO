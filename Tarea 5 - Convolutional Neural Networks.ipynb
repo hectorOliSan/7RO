{
  "nbformat": 4,
  "nbformat_minor": 0,
  "metadata": {
    "colab": {
      "provenance": []
    },
    "kernelspec": {
      "name": "python3",
      "display_name": "Python 3"
    },
    "accelerator": "GPU",
    "gpuClass": "standard"
  },
  "cells": [
    {
      "metadata": {
        "id": "mX8gZlVyCCbz"
      },
      "cell_type": "markdown",
      "source": [
        "# Laboratorio: Convolutional Neural Networks\n",
        "\n",
        "En este laboratorio, vamos a trabajar con Convolutional Neural Networks para resolver un problema de clasificación de imágenes. En particular, vamos a clasificar imágenes de personajes de la conocida serie de los Simpsons.\n",
        "\n",
        "Como las CNN profundas son un tipo de modelo bastante avanzado y computacionalmente costoso, se recomienda hacer la práctica en Google Colaboratory con soporte para GPUs. En [este enlace](https://medium.com/deep-learning-turkey/google-colab-free-gpu-tutorial-e113627b9f5d) se explica cómo activar un entorno con GPUs. *Nota: para leer las imágenes y estandarizarlas al mismo tamaño se usa la librería opencv. Esta ĺibrería está ya instalada en el entorno de Colab, pero si trabajáis de manera local tendréis que instalarla.*\n",
        "\n",
        "<center><img src=\"https://i.imgur.com/i8zIGqX.jpg\" style=\"text-align: center\" height=\"300px\"></center>\n",
        "\n",
        "El dataset a utilizar consiste en imágenes de personajes de los Simpsons extraídas directamente de capítulos de la serie. Este dataset ha sido recopilado por [Alexandre Attia](http://www.alexattia.fr/) y es más complejo que el dataset de Fashion MNIST que hemos utilizado hasta ahora. Aparte de tener más clases (vamos a utilizar los 18 personajes con más imágenes), los personajes pueden aparecer en distintas poses, en distintas posiciones de la imagen o con otros personajes en pantalla (si bien el personaje a clasificar siempre aparece en la posición predominante).\n",
        "\n",
        "El dataset de training puede ser descargado desde aquí:\n",
        "\n",
        "[Training data](https://onedrive.live.com/download?cid=C506CF0A4F373B0F&resid=C506CF0A4F373B0F%219337&authkey=AMzI92bJPx8Sd60) (~500MB)\n",
        "\n",
        "Por otro lado, el dataset de test puede ser descargado de aquí:\n",
        "\n",
        "[Test data](https://onedrive.live.com/download?cid=C506CF0A4F373B0F&resid=C506CF0A4F373B0F%219341&authkey=ANnjK3Uq1FhuAe8) (~10MB)\n",
        "\n",
        "Antes de empezar la práctica, se recomienda descargar las imágenes y echarlas un vistazo.\n"
      ]
    },
    {
      "metadata": {
        "id": "QI274F8LQC59"
      },
      "cell_type": "markdown",
      "source": [
        "## Carga de los datos"
      ]
    },
    {
      "metadata": {
        "id": "D7tKOZ9BFfki"
      },
      "cell_type": "code",
      "source": [
        "import cv2\n",
        "import os\n",
        "import numpy as np \n",
        "import keras\n",
        "import matplotlib.pyplot as plt\n",
        "import glob\n",
        "\n",
        "\n",
        "# Primero, bajamos los datos de entrenamiento\n",
        "keras.utils.get_file(fname=\"simpsons_train.tar.gz\", \n",
        "                     origin=\"https://onedrive.live.com/download?cid=C506CF0A4F373B0F&resid=C506CF0A4F373B0F%219337&authkey=AMzI92bJPx8Sd60\")\n",
        "\n",
        "# Descomprimimos el archivo\n",
        "!tar -xzf /root/.keras/datasets/simpsons_train.tar.gz -C /root/.keras/datasets\n",
        "\n",
        "# Hacemos lo mismo con los datos de test\n",
        "keras.utils.get_file(fname=\"simpsons_test.tar.gz\", \n",
        "                     origin=\"https://onedrive.live.com/download?cid=C506CF0A4F373B0F&resid=C506CF0A4F373B0F%219341&authkey=ANnjK3Uq1FhuAe8\")\n",
        "!tar -xzf /root/.keras/datasets/simpsons_test.tar.gz -C /root/.keras/datasets"
      ],
      "execution_count": 1,
      "outputs": []
    },
    {
      "metadata": {
        "id": "hMFhe3COFwSD"
      },
      "cell_type": "code",
      "source": [
        "# Esta variable contiene un mapeo de número de clase a personaje.\n",
        "# Utilizamos sólo los 18 personajes del dataset que tienen más imágenes.\n",
        "MAP_CHARACTERS = {\n",
        "    0: 'abraham_grampa_simpson', 1: 'apu_nahasapeemapetilon', 2: 'bart_simpson',\n",
        "    3: 'charles_montgomery_burns', 4: 'chief_wiggum', 5: 'comic_book_guy', 6: 'edna_krabappel', \n",
        "    7: 'homer_simpson', 8: 'kent_brockman', 9: 'krusty_the_clown', 10: 'lisa_simpson', \n",
        "    11: 'marge_simpson', 12: 'milhouse_van_houten', 13: 'moe_szyslak', \n",
        "    14: 'ned_flanders', 15: 'nelson_muntz', 16: 'principal_skinner', 17: 'sideshow_bob'\n",
        "}\n",
        "\n",
        "# Vamos a standarizar todas las imágenes a tamaño 64x64\n",
        "IMG_SIZE = 64"
      ],
      "execution_count": 2,
      "outputs": []
    },
    {
      "metadata": {
        "id": "5bJ0NsbCbupF"
      },
      "cell_type": "code",
      "source": [
        "def load_train_set(dirname, map_characters, verbose=True):\n",
        "    \"\"\"Esta función carga los datos de training en imágenes.\n",
        "    \n",
        "    Como las imágenes tienen tamaños distintas, utilizamos la librería opencv\n",
        "    para hacer un resize y adaptarlas todas a tamaño IMG_SIZE x IMG_SIZE.\n",
        "    \n",
        "    Args:\n",
        "        dirname: directorio completo del que leer los datos\n",
        "        map_characters: variable de mapeo entre labels y personajes\n",
        "        verbose: si es True, muestra información de las imágenes cargadas\n",
        "     \n",
        "    Returns:\n",
        "        X, y: X es un array con todas las imágenes cargadas con tamaño\n",
        "                IMG_SIZE x IMG_SIZE\n",
        "              y es un array con las labels de correspondientes a cada imagen\n",
        "    \"\"\"\n",
        "    X_train = []\n",
        "    y_train = []\n",
        "    for label, character in map_characters.items():        \n",
        "        files = os.listdir(os.path.join(dirname, character))\n",
        "        images = [file for file in files if file.endswith(\"jpg\")]\n",
        "        if verbose:\n",
        "          print(\"Leyendo {} imágenes encontradas de {}\".format(len(images), character))\n",
        "        for image_name in images:\n",
        "            image = cv2.imread(os.path.join(dirname, character, image_name))\n",
        "            X_train.append(cv2.resize(image,(IMG_SIZE, IMG_SIZE)))\n",
        "            y_train.append(label)\n",
        "    return np.array(X_train), np.array(y_train)"
      ],
      "execution_count": 3,
      "outputs": []
    },
    {
      "metadata": {
        "id": "NslxhnnDK6uA"
      },
      "cell_type": "code",
      "source": [
        "def load_test_set(dirname, map_characters, verbose=True):\n",
        "    \"\"\"Esta función funciona de manera equivalente a la función load_train_set\n",
        "    pero cargando los datos de test.\"\"\"\n",
        "    X_test = []\n",
        "    y_test = []\n",
        "    reverse_dict = {v: k for k, v in map_characters.items()}\n",
        "    for filename in glob.glob(dirname + '/*.*'):\n",
        "        char_name = \"_\".join(filename.split('/')[-1].split('_')[:-1])\n",
        "        if char_name in reverse_dict:\n",
        "            image = cv2.imread(filename)\n",
        "            image = cv2.resize(image, (IMG_SIZE, IMG_SIZE))\n",
        "            X_test.append(image)\n",
        "            y_test.append(reverse_dict[char_name])\n",
        "    if verbose:\n",
        "        print(\"Leídas {} imágenes de test\".format(len(X_test)))\n",
        "    return np.array(X_test), np.array(y_test)\n"
      ],
      "execution_count": 4,
      "outputs": []
    },
    {
      "metadata": {
        "id": "WVWqKxFcbwTu",
        "colab": {
          "base_uri": "https://localhost:8080/"
        },
        "outputId": "8f912629-5c9f-4ada-8077-b11f575ecbdf"
      },
      "cell_type": "code",
      "source": [
        "# Cargamos los datos. Si no estás trabajando en colab, cambia los paths por\n",
        "# los de los ficheros donde hayas descargado los datos.\n",
        "DATASET_TRAIN_PATH_COLAB = \"/root/.keras/datasets/simpsons\"\n",
        "DATASET_TEST_PATH_COLAB = \"/root/.keras/datasets/simpsons_testset\"\n",
        "\n",
        "X, y = load_train_set(DATASET_TRAIN_PATH_COLAB, MAP_CHARACTERS)\n",
        "X_t, y_t = load_test_set(DATASET_TEST_PATH_COLAB, MAP_CHARACTERS)"
      ],
      "execution_count": 5,
      "outputs": [
        {
          "output_type": "stream",
          "name": "stdout",
          "text": [
            "Leyendo 913 imágenes encontradas de abraham_grampa_simpson\n",
            "Leyendo 623 imágenes encontradas de apu_nahasapeemapetilon\n",
            "Leyendo 1342 imágenes encontradas de bart_simpson\n",
            "Leyendo 1193 imágenes encontradas de charles_montgomery_burns\n",
            "Leyendo 986 imágenes encontradas de chief_wiggum\n",
            "Leyendo 469 imágenes encontradas de comic_book_guy\n",
            "Leyendo 457 imágenes encontradas de edna_krabappel\n",
            "Leyendo 2246 imágenes encontradas de homer_simpson\n",
            "Leyendo 498 imágenes encontradas de kent_brockman\n",
            "Leyendo 1206 imágenes encontradas de krusty_the_clown\n",
            "Leyendo 1354 imágenes encontradas de lisa_simpson\n",
            "Leyendo 1291 imágenes encontradas de marge_simpson\n",
            "Leyendo 1079 imágenes encontradas de milhouse_van_houten\n",
            "Leyendo 1452 imágenes encontradas de moe_szyslak\n",
            "Leyendo 1454 imágenes encontradas de ned_flanders\n",
            "Leyendo 358 imágenes encontradas de nelson_muntz\n",
            "Leyendo 1194 imágenes encontradas de principal_skinner\n",
            "Leyendo 877 imágenes encontradas de sideshow_bob\n",
            "Leídas 890 imágenes de test\n"
          ]
        }
      ]
    },
    {
      "metadata": {
        "id": "2GY4vTFyfffv"
      },
      "cell_type": "code",
      "source": [
        "# Vamos a barajar aleatoriamente los datos. Esto es importante ya que si no\n",
        "# lo hacemos y, por ejemplo, cogemos el 20% de los datos finales como validation\n",
        "# set, estaremos utilizando solo un pequeño número de personajes, ya que\n",
        "# las imágenes se leen secuencialmente personaje a personaje.\n",
        "perm = np.random.permutation(len(X))\n",
        "X, y = X[perm], y[perm]"
      ],
      "execution_count": 6,
      "outputs": []
    },
    {
      "metadata": {
        "id": "pBbmz9DMhVhc"
      },
      "cell_type": "markdown",
      "source": [
        "## Entregable\n",
        "\n",
        "Utilizando Convolutional Neural Networks con Keras, entrenar un clasificador que sea capaz de reconocer personajes en imágenes de los Simpsons con una accuracy en el dataset de test de **85%**. Redactar un informe analizando varias de las alternativas probadas y los resultados obtenidos.\n",
        "\n",
        "A continuación se detallan una serie de aspectos orientativos que podrían ser analizados en vuestro informe (no es necesario tratar todos ellos ni mucho menos, esto son ideas orientativas de aspectos que podéis explorar):\n",
        "\n",
        "*   Análisis de los datos a utilizar.\n",
        "*   Análisis de resultados, obtención de métricas de *precision* y *recall* por clase y análisis de qué clases obtienen mejores o peores resultados.\n",
        "*   Análisis visual de los errores de la red. ¿Qué tipo de imágenes o qué personajes dan más problemas a nuestro modelo?\n",
        "*   Comparación de modelos CNNs con un modelo de Fully Connected para este problema.\n",
        "*   Utilización de distintas arquitecturas CNNs, comentando aspectos como su profundidad, hiperparámetros utilizados, optimizador, uso de técnicas de regularización, *batch normalization*, etc.\n",
        "*   [ *algo más difícil* ] Utilización de *data augmentation*. Esto puede conseguirse con la clase [ImageDataGenerator](https://keras.io/preprocessing/image/#imagedatagenerator-class) de Keras.\n",
        "\n",
        "Notas: \n",
        "* Recuerda partir los datos en training/validation para tener una buena estimación de los valores que nuestro modelo tendrá en los datos de test, así como comprobar que no estamos cayendo en overfitting. Una posible partición puede ser 80 / 20.\n",
        "* No es necesario mostrar en el notebook las trazas de entrenamiento de todos los modelos entrenados, si bien una buena idea seria guardar gráficas de esos entrenamientos para el análisis. Sin embargo, **se debe mostrar el entrenamiento completo del mejor modelo obtenido y la evaluación de los datos de test con este modelo**.\n",
        "* Las imágenes **no están normalizadas**. Hay que normalizarlas como hemos hecho en trabajos anteriores.\n",
        "* El test set del problema tiene imágenes un poco más \"fáciles\", por lo que es posible encontrarse con métricas en el test set bastante mejores que en el training set."
      ]
    },
    {
      "cell_type": "markdown",
      "source": [
        "https://www3.gobiernodecanarias.org/medusa/eforma/campus/pluginfile.php/7850574/mod_resource/content/7/PIA06_Contenidos/1_evaluacin_de_un_modelo_de_machine_learning.html\n",
        "\n",
        "https://www3.gobiernodecanarias.org/medusa/eforma/campus/pluginfile.php/7850589/mod_resource/content/8/PIA07_Contenidos/13_el_modelo_completo.html"
      ],
      "metadata": {
        "id": "84o0lw3gVnc-"
      }
    },
    {
      "cell_type": "markdown",
      "source": [
        "# **TAREA 5**: CONVOLUTIONAL NEURAL NETWORKS"
      ],
      "metadata": {
        "id": "Eilo7hSNZwVX"
      }
    },
    {
      "cell_type": "code",
      "source": [
        "# Importación de Librerías\n",
        "\n",
        "import numpy as np\n",
        "import matplotlib.pyplot as plt\n",
        "import tensorflow as tf\n",
        "from keras import layers, models, optimizers\n",
        "from keras.utils import to_categorical\n",
        "from keras.preprocessing.image import ImageDataGenerator\n",
        "from sklearn.model_selection import train_test_split\n",
        "from sklearn.metrics import classification_report"
      ],
      "metadata": {
        "id": "8E_YKQu_A7ty"
      },
      "execution_count": 7,
      "outputs": []
    },
    {
      "cell_type": "code",
      "source": [
        "# Normalización de los valores de píxeles de las imágenes \n",
        "\n",
        "X, X_t = X / 255.0, X_t / 255.0\n",
        "\n",
        "# Conversión de las etiquetas de clase en vectores de una sola activación\n",
        "\n",
        "y, y_t = to_categorical(y), to_categorical(y_t)"
      ],
      "metadata": {
        "id": "h47zaC8VSU9a"
      },
      "execution_count": 8,
      "outputs": []
    },
    {
      "cell_type": "code",
      "source": [
        "# Tamaño de la matriz X:\n",
        "# - Número de imágenes en el conjunto de datos\n",
        "# - Dimensiones 2 y 3, resolución en píxeles que tiene cada imagen\n",
        "# - Valores de intensidad de los componentes rojo, verde y azul (RGB)\n",
        "\n",
        "X.shape"
      ],
      "metadata": {
        "colab": {
          "base_uri": "https://localhost:8080/"
        },
        "id": "CxdGiHzT9DfR",
        "outputId": "4f947a32-4ebe-4bfe-8c52-bed9dc182c86"
      },
      "execution_count": 9,
      "outputs": [
        {
          "output_type": "execute_result",
          "data": {
            "text/plain": [
              "(18992, 64, 64, 3)"
            ]
          },
          "metadata": {},
          "execution_count": 9
        }
      ]
    },
    {
      "cell_type": "code",
      "source": [
        "# Tamaño de la matriz y:\n",
        "# - Número de imágenes en el conjunto de datos\n",
        "# - Número de clases en el conjunto de datos\n",
        "\n",
        "y.shape"
      ],
      "metadata": {
        "colab": {
          "base_uri": "https://localhost:8080/"
        },
        "id": "Sx-V8P0O9HxV",
        "outputId": "818f7a79-0806-4d59-90d1-417968c61125"
      },
      "execution_count": 10,
      "outputs": [
        {
          "output_type": "execute_result",
          "data": {
            "text/plain": [
              "(18992, 18)"
            ]
          },
          "metadata": {},
          "execution_count": 10
        }
      ]
    },
    {
      "cell_type": "code",
      "source": [
        "# Hiperparámetros del modelo\n",
        "# - input_shape: forma de los datos de entrada\n",
        "# - num_classes: número de clases que hay en el problema de clasificación\n",
        "# - epochs: número de veces que se pasa por todo el conjunto de entrenamiento\n",
        "# - batch_size: número de muestras que se usan en cada actualización de los pesos del modelo\n",
        "\n",
        "input_shape = (64, 64, 3) # Imágenes de 64x64 píxeles con 3 canales de color\n",
        "num_classes = 18\n",
        "epochs = 20\n",
        "batch_size = 64"
      ],
      "metadata": {
        "id": "7bLVfryVA3hX"
      },
      "execution_count": 11,
      "outputs": []
    },
    {
      "cell_type": "code",
      "source": [
        "# División de los datos en entrenamiento y validación\n",
        "# - test_size: proporción de datos que se asigna al conjunto de validación\n",
        "# - random_state: valor para inicializar el generador de números aleatorios que determina la forma de dividir los datos\n",
        "\n",
        "X_train, X_val, y_train, y_val = train_test_split(X, y, test_size=0.2, random_state=42)"
      ],
      "metadata": {
        "id": "AysMbM06M29C"
      },
      "execution_count": 12,
      "outputs": []
    },
    {
      "cell_type": "markdown",
      "source": [
        "## Modelo de Red Fully Connected"
      ],
      "metadata": {
        "id": "cUyYihK7YN0Y"
      }
    },
    {
      "cell_type": "code",
      "source": [
        "# Modelo de Red Fully Connected\n",
        "# - Flatten: capa de aplanamiento, convierte la imagen de entrada en un vector unidimensional\n",
        "# - Dense: capa densamente conectada\n",
        "# - ReLU (rectified linear unit): máximo entre cero y el valor de entrada\n",
        "# - Softmax: distribución de probabilidad sobre las clases de salida\n",
        "\n",
        "model_fc = models.Sequential()\n",
        "model_fc.add(layers.Flatten(input_shape=input_shape))\n",
        "model_fc.add(layers.Dense(256, activation='relu'))\n",
        "model_fc.add(layers.Dense(256, activation='relu'))\n",
        "model_fc.add(layers.Dense(256, activation='relu'))\n",
        "model_fc.add(layers.Dense(num_classes, activation='softmax'))"
      ],
      "metadata": {
        "id": "MMxgfK-eXs_Y"
      },
      "execution_count": 13,
      "outputs": []
    },
    {
      "cell_type": "code",
      "source": [
        "# Compilación del modelo\n",
        "# - optimizer='adam': adapta automáticamente la tasa de aprendizaje durante el entrenamiento\n",
        "# - loss='categorical_crossentropy': entropía cruzada categórica, comúnmente utilizada en la clasificación de múltiples clases\n",
        "# - metrics=['accuracy']: (precisión), mide la proporción de muestras clasificadas correctamente\n",
        "\n",
        "model_fc.compile(optimizer='adam', loss='categorical_crossentropy', metrics=['accuracy'])"
      ],
      "metadata": {
        "id": "9wda0LvkYM96"
      },
      "execution_count": 14,
      "outputs": []
    },
    {
      "cell_type": "code",
      "source": [
        "# Entrenamiento del modelo\n",
        "# - epochs: número de veces que se pasa por todo el conjunto de entrenamiento\n",
        "# - batch_size: número de muestras que se usan en cada actualización de los pesos del modelo\n",
        "# - validation_data: conjunto de datos para evaluar la pérdida y las métricas del modelo al final de cada época\n",
        "\n",
        "history = model_fc.fit(X_train, y_train, epochs=epochs, batch_size=batch_size, validation_data=(X_val, y_val))"
      ],
      "metadata": {
        "id": "j377aSTBBWFA",
        "colab": {
          "base_uri": "https://localhost:8080/"
        },
        "outputId": "a6dfad07-2ca5-43c5-fc87-ab35f6663c89"
      },
      "execution_count": 15,
      "outputs": [
        {
          "output_type": "stream",
          "name": "stdout",
          "text": [
            "Epoch 1/20\n",
            "238/238 [==============================] - 4s 8ms/step - loss: 2.5721 - accuracy: 0.2310 - val_loss: 2.1983 - val_accuracy: 0.3127\n",
            "Epoch 2/20\n",
            "238/238 [==============================] - 1s 6ms/step - loss: 2.0869 - accuracy: 0.3607 - val_loss: 1.9636 - val_accuracy: 0.3985\n",
            "Epoch 3/20\n",
            "238/238 [==============================] - 1s 6ms/step - loss: 1.8916 - accuracy: 0.4231 - val_loss: 1.8200 - val_accuracy: 0.4441\n",
            "Epoch 4/20\n",
            "238/238 [==============================] - 1s 6ms/step - loss: 1.7662 - accuracy: 0.4573 - val_loss: 1.8492 - val_accuracy: 0.4322\n",
            "Epoch 5/20\n",
            "238/238 [==============================] - 1s 6ms/step - loss: 1.6578 - accuracy: 0.4884 - val_loss: 1.7006 - val_accuracy: 0.4775\n",
            "Epoch 6/20\n",
            "238/238 [==============================] - 1s 6ms/step - loss: 1.5631 - accuracy: 0.5156 - val_loss: 1.7472 - val_accuracy: 0.4635\n",
            "Epoch 7/20\n",
            "238/238 [==============================] - 2s 7ms/step - loss: 1.4782 - accuracy: 0.5464 - val_loss: 1.8498 - val_accuracy: 0.4454\n",
            "Epoch 8/20\n",
            "238/238 [==============================] - 1s 6ms/step - loss: 1.3933 - accuracy: 0.5675 - val_loss: 1.6366 - val_accuracy: 0.5115\n",
            "Epoch 9/20\n",
            "238/238 [==============================] - 1s 6ms/step - loss: 1.3005 - accuracy: 0.6006 - val_loss: 1.5917 - val_accuracy: 0.5267\n",
            "Epoch 10/20\n",
            "238/238 [==============================] - 1s 6ms/step - loss: 1.2146 - accuracy: 0.6251 - val_loss: 1.6754 - val_accuracy: 0.5067\n",
            "Epoch 11/20\n",
            "238/238 [==============================] - 1s 5ms/step - loss: 1.1643 - accuracy: 0.6403 - val_loss: 1.7018 - val_accuracy: 0.5157\n",
            "Epoch 12/20\n",
            "238/238 [==============================] - 1s 6ms/step - loss: 1.0842 - accuracy: 0.6654 - val_loss: 1.6207 - val_accuracy: 0.5386\n",
            "Epoch 13/20\n",
            "238/238 [==============================] - 1s 6ms/step - loss: 1.0145 - accuracy: 0.6844 - val_loss: 1.6578 - val_accuracy: 0.5280\n",
            "Epoch 14/20\n",
            "238/238 [==============================] - 1s 6ms/step - loss: 0.9725 - accuracy: 0.6954 - val_loss: 1.5334 - val_accuracy: 0.5773\n",
            "Epoch 15/20\n",
            "238/238 [==============================] - 2s 7ms/step - loss: 0.9013 - accuracy: 0.7167 - val_loss: 1.6423 - val_accuracy: 0.5449\n",
            "Epoch 16/20\n",
            "238/238 [==============================] - 1s 6ms/step - loss: 0.8609 - accuracy: 0.7270 - val_loss: 1.5815 - val_accuracy: 0.5749\n",
            "Epoch 17/20\n",
            "238/238 [==============================] - 1s 5ms/step - loss: 0.7751 - accuracy: 0.7530 - val_loss: 1.7583 - val_accuracy: 0.5451\n",
            "Epoch 18/20\n",
            "238/238 [==============================] - 1s 6ms/step - loss: 0.7439 - accuracy: 0.7646 - val_loss: 1.6504 - val_accuracy: 0.5830\n",
            "Epoch 19/20\n",
            "238/238 [==============================] - 2s 7ms/step - loss: 0.6723 - accuracy: 0.7871 - val_loss: 1.7388 - val_accuracy: 0.5696\n",
            "Epoch 20/20\n",
            "238/238 [==============================] - 2s 7ms/step - loss: 0.6395 - accuracy: 0.7994 - val_loss: 1.6718 - val_accuracy: 0.5931\n"
          ]
        }
      ]
    },
    {
      "cell_type": "code",
      "source": [
        "# Evaluación del modelo en el conjunto de datos de prueba\n",
        "\n",
        "test_loss, test_acc = model_fc.evaluate(X_t, y_t, verbose=2)\n",
        "print('Test accuracy:', test_acc)"
      ],
      "metadata": {
        "colab": {
          "base_uri": "https://localhost:8080/"
        },
        "id": "yBU3-Lu5Yp3p",
        "outputId": "71aef284-d981-42ad-dfa2-69b1a67e37e3"
      },
      "execution_count": 16,
      "outputs": [
        {
          "output_type": "stream",
          "name": "stdout",
          "text": [
            "28/28 - 0s - loss: 0.7966 - accuracy: 0.7910 - 99ms/epoch - 4ms/step\n",
            "Test accuracy: 0.7910112142562866\n"
          ]
        }
      ]
    },
    {
      "cell_type": "markdown",
      "source": [
        "## Modelo de Red Neuronal Convolucional (CNNs)"
      ],
      "metadata": {
        "id": "qcFi1hTZYzH-"
      }
    },
    {
      "cell_type": "code",
      "source": [
        "# Modelo de Red Neuronal Convolucional (CNNs)\n",
        "# - Conv2D: Capa convolucional\n",
        "# - MaxPooling2D: Agrupación máxima, reduce el tamaño de la salida de la capa anterior y elimina información redundante\n",
        "# - BatchNormalization: Normalización por lotes, estandariza los valores de entrada y acelera el entrenamiento\n",
        "# - Flatten: Aplana la salida de la última capa convolucional en un vector unidimensional\n",
        "# - Dropout: Apaga aleatoriamente un porcentaje de las unidades del vector anterior para evitar el sobreajuste\n",
        "# - Dense: capa densamente conectada\n",
        "# - ReLU (rectified linear unit): máximo entre cero y el valor de entrada\n",
        "# - Softmax: distribución de probabilidad sobre las clases de salida\n",
        "\n",
        "model = models.Sequential()\n",
        "model.add(layers.Conv2D(64, (3, 3), activation='relu', input_shape=input_shape))\n",
        "model.add(layers.MaxPooling2D((2, 2)))\n",
        "model.add(layers.BatchNormalization())\n",
        "model.add(layers.Conv2D(128, (3, 3), activation='relu'))\n",
        "model.add(layers.MaxPooling2D((2, 2)))\n",
        "model.add(layers.BatchNormalization())\n",
        "model.add(layers.Conv2D(128, (3, 3), activation='relu'))\n",
        "model.add(layers.MaxPooling2D((2, 2)))\n",
        "model.add(layers.BatchNormalization())\n",
        "model.add(layers.Conv2D(128, (3, 3), activation='relu'))\n",
        "model.add(layers.MaxPooling2D((2, 2)))\n",
        "model.add(layers.BatchNormalization())\n",
        "model.add(layers.Flatten())\n",
        "model.add(layers.Dropout(0.5))\n",
        "model.add(layers.Dense(512, activation='relu'))\n",
        "model.add(layers.Dense(num_classes, activation='softmax'))"
      ],
      "metadata": {
        "id": "da_NKHWkU65t"
      },
      "execution_count": 17,
      "outputs": []
    },
    {
      "cell_type": "code",
      "source": [
        "# Compilación del modelo\n",
        "# - optimizer='adam': adapta automáticamente la tasa de aprendizaje durante el entrenamiento\n",
        "# - loss='categorical_crossentropy': entropía cruzada categórica, comúnmente utilizada en la clasificación de múltiples clases\n",
        "# - metrics=['accuracy']: (precisión), mide la proporción de muestras clasificadas correctamente\n",
        "\n",
        "model.compile(optimizer='adam', loss='categorical_crossentropy', metrics=['accuracy'])"
      ],
      "metadata": {
        "id": "Sqg70ewvVSS4"
      },
      "execution_count": 18,
      "outputs": []
    },
    {
      "cell_type": "code",
      "source": [
        "# Instancia de ImageDataGenerator para data augmentation\n",
        "# - Generador de datos de imágenes que aplica transformaciones aleatorias a las imágenes de entrenamiento \n",
        "#   para aumentar la variedad y evitar el sobreajuste. Los parámetros indican el rango de rotación, desplazamiento, \n",
        "#   corte, zoom y volteo horizontal que se pueden aplicar a las imágenes.\n",
        "\n",
        "train_datagen = ImageDataGenerator(rotation_range=20, width_shift_range=0.2,\n",
        "                                   height_shift_range=0.2, shear_range=0.2,\n",
        "                                   zoom_range=0.2, horizontal_flip=True)"
      ],
      "metadata": {
        "id": "DdCwzT8rFedD"
      },
      "execution_count": 19,
      "outputs": []
    },
    {
      "cell_type": "code",
      "source": [
        "# Entrenamiento del modelo con data augmentation\n",
        "# - epochs: número de veces que se pasa por todo el conjunto de entrenamiento\n",
        "# - batch_size: número de muestras que se usan en cada actualización de los pesos del modelo\n",
        "# - validation_data: conjunto de datos para evaluar la pérdida y las métricas del modelo al final de cada época\n",
        "\n",
        "train_generator = train_datagen.flow(X_train, y_train, batch_size=batch_size)\n",
        "history = model.fit(train_generator, epochs=epochs, validation_data=(X_val, y_val))"
      ],
      "metadata": {
        "colab": {
          "base_uri": "https://localhost:8080/"
        },
        "id": "rj3dYlNNFr2O",
        "outputId": "3128a399-af71-40d1-ad85-e9d6b79683c8"
      },
      "execution_count": 20,
      "outputs": [
        {
          "output_type": "stream",
          "name": "stdout",
          "text": [
            "Epoch 1/20\n",
            "238/238 [==============================] - 26s 86ms/step - loss: 2.2441 - accuracy: 0.3417 - val_loss: 3.2174 - val_accuracy: 0.0655\n",
            "Epoch 2/20\n",
            "238/238 [==============================] - 20s 84ms/step - loss: 1.5308 - accuracy: 0.5385 - val_loss: 2.4151 - val_accuracy: 0.2353\n",
            "Epoch 3/20\n",
            "238/238 [==============================] - 20s 83ms/step - loss: 1.1281 - accuracy: 0.6559 - val_loss: 1.0812 - val_accuracy: 0.6549\n",
            "Epoch 4/20\n",
            "238/238 [==============================] - 19s 80ms/step - loss: 0.9176 - accuracy: 0.7248 - val_loss: 1.0311 - val_accuracy: 0.6918\n",
            "Epoch 5/20\n",
            "238/238 [==============================] - 20s 84ms/step - loss: 0.7754 - accuracy: 0.7677 - val_loss: 0.5688 - val_accuracy: 0.8318\n",
            "Epoch 6/20\n",
            "238/238 [==============================] - 19s 80ms/step - loss: 0.6930 - accuracy: 0.7956 - val_loss: 0.6571 - val_accuracy: 0.7992\n",
            "Epoch 7/20\n",
            "238/238 [==============================] - 20s 84ms/step - loss: 0.6319 - accuracy: 0.8128 - val_loss: 0.5316 - val_accuracy: 0.8423\n",
            "Epoch 8/20\n",
            "238/238 [==============================] - 20s 86ms/step - loss: 0.5817 - accuracy: 0.8288 - val_loss: 0.6700 - val_accuracy: 0.8060\n",
            "Epoch 9/20\n",
            "238/238 [==============================] - 19s 80ms/step - loss: 0.5428 - accuracy: 0.8432 - val_loss: 0.4167 - val_accuracy: 0.8879\n",
            "Epoch 10/20\n",
            "238/238 [==============================] - 20s 84ms/step - loss: 0.5018 - accuracy: 0.8482 - val_loss: 0.4960 - val_accuracy: 0.8618\n",
            "Epoch 11/20\n",
            "238/238 [==============================] - 20s 85ms/step - loss: 0.4762 - accuracy: 0.8604 - val_loss: 0.5907 - val_accuracy: 0.8357\n",
            "Epoch 12/20\n",
            "238/238 [==============================] - 20s 82ms/step - loss: 0.4655 - accuracy: 0.8655 - val_loss: 0.6619 - val_accuracy: 0.8115\n",
            "Epoch 13/20\n",
            "238/238 [==============================] - 20s 84ms/step - loss: 0.4408 - accuracy: 0.8707 - val_loss: 0.3408 - val_accuracy: 0.8981\n",
            "Epoch 14/20\n",
            "238/238 [==============================] - 19s 80ms/step - loss: 0.4127 - accuracy: 0.8792 - val_loss: 0.3602 - val_accuracy: 0.8984\n",
            "Epoch 15/20\n",
            "238/238 [==============================] - 20s 84ms/step - loss: 0.4014 - accuracy: 0.8831 - val_loss: 0.3090 - val_accuracy: 0.9066\n",
            "Epoch 16/20\n",
            "238/238 [==============================] - 21s 86ms/step - loss: 0.4055 - accuracy: 0.8795 - val_loss: 0.3087 - val_accuracy: 0.9152\n",
            "Epoch 17/20\n",
            "238/238 [==============================] - 19s 81ms/step - loss: 0.3807 - accuracy: 0.8890 - val_loss: 0.4698 - val_accuracy: 0.8644\n",
            "Epoch 18/20\n",
            "238/238 [==============================] - 20s 85ms/step - loss: 0.3754 - accuracy: 0.8876 - val_loss: 0.5379 - val_accuracy: 0.8434\n",
            "Epoch 19/20\n",
            "238/238 [==============================] - 20s 85ms/step - loss: 0.3682 - accuracy: 0.8930 - val_loss: 0.2679 - val_accuracy: 0.9247\n",
            "Epoch 20/20\n",
            "238/238 [==============================] - 20s 83ms/step - loss: 0.3491 - accuracy: 0.8982 - val_loss: 0.2715 - val_accuracy: 0.9226\n"
          ]
        }
      ]
    },
    {
      "cell_type": "code",
      "source": [
        "# Evaluación del modelo en el conjunto de datos de prueba\n",
        "\n",
        "test_loss, test_acc = model.evaluate(X_t, y_t, verbose=2)\n",
        "print('Test accuracy:', test_acc)"
      ],
      "metadata": {
        "colab": {
          "base_uri": "https://localhost:8080/"
        },
        "id": "GxsCgt2Q86o1",
        "outputId": "5064f97f-4ca2-4712-c825-3103d3735a9c"
      },
      "execution_count": 21,
      "outputs": [
        {
          "output_type": "stream",
          "name": "stdout",
          "text": [
            "28/28 - 0s - loss: 0.1968 - accuracy: 0.9371 - 228ms/epoch - 8ms/step\n",
            "Test accuracy: 0.9370786547660828\n"
          ]
        }
      ]
    },
    {
      "cell_type": "markdown",
      "source": [
        "## Comparación de los modelos:"
      ],
      "metadata": {
        "id": "03XUWnGLZCF-"
      }
    },
    {
      "cell_type": "markdown",
      "source": [
        "Comparando los dos modelos, podemos ver que el modelo CNN está diseñado específicamente para procesar imágenes mediante la convolución de los filtros y la reducción de la dimensionalidad con max-pooling. Por otro lado, el modelo fully connected simplemente aplanar la imagen y usa capas densas regulares para procesar el vector de características.\n",
        "\n",
        "Por lo que, **el modelo CNN es más efectivo para procesar imágenes** y extraer características relevantes debido a su capacidad para detectar patrones locales y aprender representaciones jerárquicas. Esto se puede observar en la evaluación del modelo, ya que da un menor número de test_loss (0.1968) y un mayor número de **accuracy (0.9370)**."
      ],
      "metadata": {
        "id": "qRp588XMZHCN"
      }
    },
    {
      "cell_type": "markdown",
      "source": [
        "## Análisis de resultados:"
      ],
      "metadata": {
        "id": "87HK0mJNhjHT"
      }
    },
    {
      "cell_type": "code",
      "source": [
        "# Predicción con los datos de test\n",
        "\n",
        "prediccion = model.predict(X_t)\n",
        "\n",
        "# Métricas de precisión y recall por clase\n",
        "# - precision: fracción de predicciones correctas para cada clase\n",
        "# - recall: fracción de imágenes reales de cada clase que se predicen correctamente\n",
        "# - Estas métricas se calculan comparando las etiquetas verdaderas (y_t) con las predichas (prediccion).\n",
        "\n",
        "target_names = list(MAP_CHARACTERS.values())\n",
        "informe = classification_report(np.argmax(y_t,axis=1), \n",
        "                                np.argmax(prediccion,axis=1), \n",
        "                                target_names=target_names)\n",
        "print(informe)"
      ],
      "metadata": {
        "colab": {
          "base_uri": "https://localhost:8080/"
        },
        "id": "7hdmTsaaScVP",
        "outputId": "6d92aa68-44a1-451a-b529-9c595dbc4db8"
      },
      "execution_count": 22,
      "outputs": [
        {
          "output_type": "stream",
          "name": "stdout",
          "text": [
            "28/28 [==============================] - 0s 4ms/step\n",
            "                          precision    recall  f1-score   support\n",
            "\n",
            "  abraham_grampa_simpson       0.93      0.90      0.91        48\n",
            "  apu_nahasapeemapetilon       1.00      1.00      1.00        50\n",
            "            bart_simpson       1.00      0.92      0.96        50\n",
            "charles_montgomery_burns       0.81      1.00      0.90        48\n",
            "            chief_wiggum       0.98      0.90      0.94        50\n",
            "          comic_book_guy       0.93      0.88      0.91        49\n",
            "          edna_krabappel       0.91      0.96      0.93        50\n",
            "           homer_simpson       0.88      0.98      0.92        50\n",
            "           kent_brockman       0.92      0.94      0.93        50\n",
            "        krusty_the_clown       1.00      1.00      1.00        50\n",
            "            lisa_simpson       1.00      0.86      0.92        50\n",
            "           marge_simpson       0.96      0.94      0.95        50\n",
            "     milhouse_van_houten       0.94      0.98      0.96        49\n",
            "             moe_szyslak       0.90      0.90      0.90        50\n",
            "            ned_flanders       0.96      0.90      0.93        49\n",
            "            nelson_muntz       0.98      0.82      0.89        50\n",
            "       principal_skinner       0.89      1.00      0.94        50\n",
            "            sideshow_bob       0.94      1.00      0.97        47\n",
            "\n",
            "                accuracy                           0.94       890\n",
            "               macro avg       0.94      0.94      0.94       890\n",
            "            weighted avg       0.94      0.94      0.94       890\n",
            "\n"
          ]
        }
      ]
    },
    {
      "cell_type": "code",
      "source": [
        "# Gráficos del historial de evaluación del modelo\n",
        "\n",
        "# El primer gráfico (ax1), traza la curva de pérdida del modelo durante el entrenamiento (color azul) \n",
        "# y durante la validación (color rojo) en función del número de épocas. \n",
        "# La pérdida es una medida del error del modelo que se quiere minimizar. \n",
        "\n",
        "fig, (ax1, ax2) = plt.subplots(2, 1, figsize=(12, 12))\n",
        "ax1.plot(history.history['loss'], color='b', label=\"Training loss\")\n",
        "ax1.plot(history.history['val_loss'], color='r', label=\"validation loss\")\n",
        "ax1.set_xticks(np.arange(31))\n",
        "ax1.legend(loc='best', shadow=True)\n",
        "\n",
        "# El segundo gráfico (ax2), traza la curva de precisión del modelo durante el entrenamiento (color azul)\n",
        "# y durante la validación (color rojo) en función del número de épocas. \n",
        "# La precisión es la fracción de predicciones correctas del modelo que se quiere maximizar.\n",
        "\n",
        "ax2.plot(history.history['accuracy'], color='b', label=\"Training accuracy\")\n",
        "ax2.plot(history.history['val_accuracy'], color='r',label=\"Validation accuracy\")\n",
        "ax2.set_xticks(np.arange(31))\n",
        "ax2.legend(loc='best', shadow=True)\n",
        "plt.tight_layout()\n",
        "plt.show()"
      ],
      "metadata": {
        "colab": {
          "base_uri": "https://localhost:8080/",
          "height": 873
        },
        "id": "_wZRMp5fiJnc",
        "outputId": "b492423e-0919-45fd-f0d2-de3710ce3e2b"
      },
      "execution_count": 23,
      "outputs": [
        {
          "output_type": "display_data",
          "data": {
            "text/plain": [
              "<Figure size 864x864 with 2 Axes>"
            ],
            "image/png": "[encoded data removed]"
          },
          "metadata": {
            "needs_background": "light"
          }
        }
      ]
    }
  ]
}