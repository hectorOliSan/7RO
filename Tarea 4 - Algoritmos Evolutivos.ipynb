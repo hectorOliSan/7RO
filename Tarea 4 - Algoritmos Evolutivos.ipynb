{
 "cells": [
  {
   "cell_type": "markdown",
   "id": "59504e33",
   "metadata": {},
   "source": [
    "# > Problema del Viajante Comercio\n",
    "\n",
    "Crea un programa en Python que resuelva el problema para al menos 5 poblaciones (por ejemplo Telde, Gáldar, etc) usando el algoritmo evolutivo cuyas funciones de mutación y de recombinación vienen descritas en https://www.youtube.com/watch?v=3Kzj2FNaua8\n",
    "\n",
    "## ENLACES DE INTERÉS:\n",
    "- https://pythondiario.com/2018/05/el-problema-de-las-n-reinas-algoritmos.html\n",
    "\n",
    "- https://jarroba.com/algoritmos-geneticos-ejemplo\n",
    "\n",
    "- https://es.wikipedia.org/wiki/Problema_del_viajante\n",
    "\n",
    "## RÚBRICA:\n",
    "- (4 Puntos) El algoritmo muestra soluciones aceptables (para ello usa distancias reales en la matriz de distancias)\n",
    "\n",
    "- (4 Puntos) Se crean y comentan los métodos de mutación, fitness, y recombinanción.\n",
    "\n",
    "- (2 Puntos) Uso del vocabulario correcto (población, generación etc) así como explicación de los hiperparámetos  (probabilidad de recombinación, de mutación, población inicial etc)"
   ]
  },
  {
   "cell_type": "markdown",
   "id": "f3cf6c96",
   "metadata": {},
   "source": [
    "### Distancias entre municipios: \n",
    "https://canarias.fe.ccoo.es/b9ad3f99dc2cd2237b982c865698d804000063.pdf\n",
    "\n",
    "|                  | Las Palmas de GC | Telde | Santa Brígida | Gáldar | Teror |\n",
    "|:----------------:|:----------------:|:-----:|:-------------:|:------:|:-----:|\n",
    "| Las Palmas de GC | 0                | 19,6  | 16            | 28,3   | 19,5  |\n",
    "| Telde            | 19,6             | 0     | 20,7          | 45     | 32,6  |\n",
    "| Santa Brígida    | 16               | 20,7  | 0             | 41,4   | 20,2  |\n",
    "| Gáldar           | 28,3             | 45    | 41,4          | 0      | 30,5  |\n",
    "| Teror            | 19,5             | 32,6  | 20,2          | 30,5   | 0     |"
   ]
  },
  {
   "cell_type": "code",
   "execution_count": 25,
   "id": "9ad40b1a",
   "metadata": {},
   "outputs": [],
   "source": [
    "# Importamos librerías\n",
    "\n",
    "import random\n",
    "import numpy as np"
   ]
  },
  {
   "cell_type": "code",
   "execution_count": 26,
   "id": "926fabeb",
   "metadata": {},
   "outputs": [],
   "source": [
    "# Matriz de distancias entre las poblaciones\n",
    "\n",
    "distancias = np.array([[0, 19.6, 16, 28.3, 19.5],\n",
    "                       [19.6, 0, 20.7, 45, 32.6],\n",
    "                       [16, 20.7, 0, 41.4, 20.2],\n",
    "                       [28.3, 45, 41.4, 0, 30.5],\n",
    "                       [19.5, 32.6, 20.2, 30.5, 0]])"
   ]
  },
  {
   "cell_type": "code",
   "execution_count": 27,
   "id": "78586aca",
   "metadata": {},
   "outputs": [],
   "source": [
    "# Distancia total recorrida en la ruta especificada por el individuo\n",
    "\n",
    "def fitness(individuo):\n",
    "    distancia_total = 0\n",
    "    for i in range(len(individuo)-1):\n",
    "        distancia_total += distancias[individuo[i]][individuo[i+1]]\n",
    "    return distancia_total"
   ]
  },
  {
   "cell_type": "code",
   "execution_count": 28,
   "id": "a86f8a84",
   "metadata": {},
   "outputs": [],
   "source": [
    "# Intercambiaremos dos ciudades aleatorias en la ruta del individuo\n",
    "def mutacion(individuo):\n",
    "    ciudad1 = random.randint(1, len(individuo)-1)\n",
    "    ciudad2 = random.randint(1, len(individuo)-1)\n",
    "    individuo[ciudad1], individuo[ciudad2] = individuo[ciudad2], individuo[ciudad1]\n",
    "    return individuo"
   ]
  },
  {
   "cell_type": "code",
   "execution_count": 29,
   "id": "60384bf2",
   "metadata": {},
   "outputs": [],
   "source": [
    "# Elegimos dos puntos de corte aleatorios en la ruta del individuo \n",
    "# y los intercambiamos con otro individuo\n",
    "\n",
    "def recombinacion(individuo1, individuo2):\n",
    "    punto_corte1 = random.randint(1, len(individuo1)-1)\n",
    "    punto_corte2 = random.randint(1, len(individuo1)-1)\n",
    "    while punto_corte1 == punto_corte2:\n",
    "        punto_corte2 = random.randint(1, len(individuo1)-1)\n",
    "    if punto_corte1 > punto_corte2:\n",
    "        punto_corte1, punto_corte2 = punto_corte2, punto_corte1\n",
    "    ruta1 = individuo1[:punto_corte1] + individuo2[punto_corte1:punto_corte2] + individuo1[punto_corte2:]\n",
    "    ruta2 = individuo2[:punto_corte1] + individuo1[punto_corte1:punto_corte2] + individuo2[punto_corte2:]\n",
    "    return ruta1, ruta2"
   ]
  },
  {
   "cell_type": "code",
   "execution_count": 30,
   "id": "771e0af9",
   "metadata": {},
   "outputs": [],
   "source": [
    "# Hiperparámetros\n",
    "\n",
    "poblacion_inicial = [np.random.permutation([0, 1, 2, 3, 4]) for i in range(5)]\n",
    "prob_recombinacion = 0.7 # probabilidad de recombinación del 70%\n",
    "prob_mutacion = 0.1 # probabilidad de mutación del 10%\n",
    "generaciones = 100"
   ]
  },
  {
   "cell_type": "code",
   "execution_count": 31,
   "id": "ddc1b544",
   "metadata": {},
   "outputs": [],
   "source": [
    "def algoritmo_evolutivo(poblacion_inicial, prob_mutacion, prob_recombinacion, generaciones):\n",
    "    \n",
    "    # Inicializamos la población\n",
    "    poblacion = poblacion_inicial\n",
    "    print(\"Población Inicial: \")\n",
    "    print(poblacion,\"\\n\")\n",
    "    \n",
    "    for i in range(generaciones):\n",
    "        \n",
    "        # Calculamos el fitness de cada individuo\n",
    "        fitness_poblacion = [fitness(individuo) for individuo in poblacion]\n",
    "        \n",
    "        # Seleccionamos los individuos con mejor fitness para la siguiente generación\n",
    "        mejores_individuos = [poblacion[i] for i in range(len(poblacion)) if fitness_poblacion[i] <= min(fitness_poblacion)]\n",
    "        \n",
    "        # Aplicamos mutación y recombinación a los individuos seleccionados\n",
    "        for individuo in mejores_individuos:\n",
    "            \n",
    "            if random.random() < prob_mutacion:\n",
    "                individuo = mutacion(individuo)\n",
    "                    \n",
    "            if random.random() < prob_recombinacion:\n",
    "                individuo = recombinacion(individuo, random.choice(mejores_individuos))\n",
    "        \n",
    "        # Reemplazamos la población actual con la siguiente generación\n",
    "        poblacion = mejores_individuos\n",
    "        \n",
    "        # Mostramos la mejor población cada 10 generaciones\n",
    "        if(i % 10 == 0 and i > 0):\n",
    "            mejor_poblacion = min(poblacion, key=fitness)\n",
    "            print(\"Ruta nº(\",i,\"): \",mejor_poblacion,\" - \",fitness(mejor_poblacion))\n",
    "\n",
    "    # Devolvemos el mejor individuo encontrado\n",
    "    return min(poblacion, key=fitness)"
   ]
  },
  {
   "cell_type": "code",
   "execution_count": 32,
   "id": "6d285031",
   "metadata": {},
   "outputs": [
    {
     "name": "stdout",
     "output_type": "stream",
     "text": [
      "Población Inicial: \n",
      "[array([0, 4, 1, 3, 2]), array([3, 0, 2, 4, 1]), array([0, 3, 2, 4, 1]), array([4, 2, 0, 1, 3]), array([0, 3, 1, 4, 2])] \n",
      "\n",
      "Ruta nº( 10 ):  [3 0 2 4 1]  -  97.1\n",
      "Ruta nº( 20 ):  [3 0 2 4 1]  -  97.1\n",
      "Ruta nº( 30 ):  [3 0 2 4 1]  -  97.1\n",
      "Ruta nº( 40 ):  [3 2 1 4 0]  -  114.19999999999999\n",
      "Ruta nº( 50 ):  [3 0 2 4 1]  -  97.1\n",
      "Ruta nº( 60 ):  [3 0 4 2 1]  -  88.7\n",
      "Ruta nº( 70 ):  [3 2 4 0 1]  -  100.69999999999999\n",
      "Ruta nº( 80 ):  [3 4 2 0 1]  -  86.30000000000001\n",
      "Ruta nº( 90 ):  [3 4 2 0 1]  -  86.30000000000001\n",
      "Mejor ruta encontrada:  [3 4 2 0 1]  -  86.30000000000001\n"
     ]
    }
   ],
   "source": [
    "mejor_ruta = algoritmo_evolutivo(poblacion_inicial, prob_mutacion, prob_recombinacion, generaciones)\n",
    "print(\"Mejor ruta encontrada: \", mejor_ruta, \" - \", fitness(mejor_ruta))"
   ]
  },
  {
   "cell_type": "code",
   "execution_count": null,
   "id": "76b3fa99",
   "metadata": {},
   "outputs": [],
   "source": []
  }
 ],
 "metadata": {
  "kernelspec": {
   "display_name": "Python 3 (ipykernel)",
   "language": "python",
   "name": "python3"
  },
  "language_info": {
   "codemirror_mode": {
    "name": "ipython",
    "version": 3
   },
   "file_extension": ".py",
   "mimetype": "text/x-python",
   "name": "python",
   "nbconvert_exporter": "python",
   "pygments_lexer": "ipython3",
   "version": "3.9.15"
  }
 },
 "nbformat": 4,
 "nbformat_minor": 5
}
