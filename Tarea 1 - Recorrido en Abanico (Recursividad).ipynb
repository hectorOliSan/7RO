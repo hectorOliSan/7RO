{
 "cells": [
  {
   "cell_type": "markdown",
   "id": "59504e33",
   "metadata": {},
   "source": [
    "# > Búsqueda en abanico"
   ]
  },
  {
   "cell_type": "code",
   "execution_count": 1,
   "id": "39dd43ff",
   "metadata": {},
   "outputs": [],
   "source": [
    "import numpy as np\n",
    "import matplotlib.pyplot as plt"
   ]
  },
  {
   "cell_type": "code",
   "execution_count": 2,
   "id": "9b3dfdf8",
   "metadata": {},
   "outputs": [
    {
     "data": {
      "image/png": "[encoded data removed]",
      "text/plain": [
       "<Figure size 640x480 with 1 Axes>"
      ]
     },
     "metadata": {},
     "output_type": "display_data"
    }
   ],
   "source": [
    "# CREACIÓN DEL LABERINTO\n",
    "n = 10\n",
    "def crear_lab():\n",
    "    lab = np.zeros((n,n),dtype=int) \n",
    "\n",
    "    # Bordes\n",
    "    for t in range(n):\n",
    "        lab[0,t] = 1\n",
    "        lab[n-1,t] = 1\n",
    "        lab[t,0] = 1\n",
    "        lab[t,n-1] = 1\n",
    "        \n",
    "\n",
    "    lab[1,1] = 2 # INICIO\n",
    "    lab[n-2,n-2] = 3 # SOLUCIÓN\n",
    "    \n",
    "    return lab\n",
    "\n",
    "# CREACIÓN DEL LABERINTO CON PAREDES ALEATORIAS\n",
    "def aleatorio_lab():\n",
    "    lab = crear_lab()\n",
    "    \n",
    "    t = 0\n",
    "    porcentaje = 20\n",
    "    while t < (porcentaje / 100) * n * n:\n",
    "        i = np.random.randint(n)\n",
    "        j = np.random.randint(n)\n",
    "        lab[i,j] = 1\n",
    "        t = t + 1\n",
    "\n",
    "    lab[1,1] = 2 # INICIO\n",
    "    lab[n-2,n-2] = 3 # SOLUCIÓN\n",
    "    \n",
    "    return lab\n",
    "\n",
    "def mostrar_lab(arr, titulo):\n",
    "    plt.axis('off')\n",
    "    plt.title(titulo)\n",
    "    plt.imshow(arr)\n",
    "\n",
    "#laberinto = crear_lab()\n",
    "laberinto = aleatorio_lab()\n",
    "mostrar_lab(laberinto, 'L A B E R I N T O')"
   ]
  },
  {
   "cell_type": "code",
   "execution_count": 3,
   "id": "d8c66392",
   "metadata": {},
   "outputs": [
    {
     "data": {
      "image/png": "[encoded data removed]",
      "text/plain": [
       "<Figure size 640x480 with 1 Axes>"
      ]
     },
     "metadata": {},
     "output_type": "display_data"
    }
   ],
   "source": [
    "# CREACIÓN DE LA MATRIZ DE MARCADO O MARK\n",
    "mark = crear_lab()\n",
    "mostrar_lab(mark, 'R E C O R R I D O')"
   ]
  },
  {
   "cell_type": "code",
   "execution_count": 4,
   "id": "36b36cbe",
   "metadata": {},
   "outputs": [
    {
     "name": "stdout",
     "output_type": "stream",
     "text": [
      "ENCONTRADO\n",
      "[[1, 1], [1, 2], [1, 3], [2, 3], [3, 3], [3, 4], [3, 2], [3, 5], [4, 4], [4, 2], [3, 1], [4, 5], [5, 4], [5, 2], [4, 1], [4, 6], [5, 5], [6, 4], [5, 3], [5, 1], [4, 7], [6, 5], [6, 3], [6, 1], [4, 8], [5, 7], [6, 6], [7, 3], [7, 1], [5, 8], [6, 7], [7, 6], [8, 3], [7, 2], [8, 1], [6, 8], [7, 7], [8, 6], [8, 4], [8, 2], [7, 8]]\n"
     ]
    },
    {
     "data": {
      "image/png": "[encoded data removed]",
      "text/plain": [
       "<Figure size 640x480 with 1 Axes>"
      ]
     },
     "metadata": {},
     "output_type": "display_data"
    }
   ],
   "source": [
    "# MATRIZ DE MOVIMIENTO\n",
    "def matriz_mov():\n",
    "    move = np.zeros((4,2),dtype=int) \n",
    "    move[0,0] = 0\n",
    "    move[0,1] = 1\n",
    "    move[1,0] = 1\n",
    "    move[1,1] = 0\n",
    "    move[2,0] = 0\n",
    "    move[2,1] = -1\n",
    "    move[3,0] = -1\n",
    "    move[3,1] = 0\n",
    "    return move\n",
    "\n",
    "# RECORRIDO EN ABANICO RECURSIVO\n",
    "color = 4\n",
    "def abanico_r(i, j, cola = [] ,recorrido = []):\n",
    "    \"\"\" \n",
    "    Método que recorre la matriz laberinto a través de un recorrido en abanico recursivo\n",
    "    Parametros:\n",
    "        i (int): posición en x o en fila\n",
    "        j (int): posición en y o en columna\n",
    "    Muestra:\n",
    "        una string: 'ENCONTRADO' O NO 'ENCOTRADO'\n",
    "        recorrido (matriz): las posiciones por las que ha ido pasando\n",
    "    \"\"\"\n",
    "    global color\n",
    "    try:\n",
    "        recorrido.append([i,j])\n",
    "        if cola: cola.pop(0) # Si la cola no está vacía elimina el primer elemento\n",
    "        for mov in range(0,3):\n",
    "            g = i + m_mov[mov,0]\n",
    "            h = j + m_mov[mov,1]\n",
    "            if ((g == n-2) and (h == n-2)): # FINAL o SOLUCIÓN\n",
    "                print(\"ENCONTRADO\")\n",
    "                print(recorrido)\n",
    "                return\n",
    "            if (g >= 0 and g <= n and h >= 0 and h <= n):\n",
    "                if ((laberinto[g,h] == 0) and (mark[g,h] == 0)):\n",
    "                    mark[g,h] = color # Marca el recorrido\n",
    "                    color = color + 1\n",
    "                    cola.append([g,h])\n",
    "        abanico_r(cola[0][0], cola[0][1])\n",
    "    except:\n",
    "        print(\"NO ENCONTRADO\")\n",
    "        print(recorrido)\n",
    "\n",
    "m_mov = matriz_mov()\n",
    "abanico_r(1, 1)\n",
    "mostrar_lab(mark, 'R E C O R R I D O')"
   ]
  },
  {
   "cell_type": "code",
   "execution_count": 5,
   "id": "b7ef890a",
   "metadata": {},
   "outputs": [
    {
     "name": "stdout",
     "output_type": "stream",
     "text": [
      " \n",
      "    Método que recorre la matriz laberinto a través de un recorrido en abanico recursivo\n",
      "    Parametros:\n",
      "        i (int): posición en x o en fila\n",
      "        j (int): posición en y o en columna\n",
      "    Muestra:\n",
      "        una string: 'ENCONTRADO' O NO 'ENCOTRADO'\n",
      "        recorrido (matriz): las posiciones por las que ha ido pasando\n",
      "    \n"
     ]
    }
   ],
   "source": [
    "print(abanico_r.__doc__)"
   ]
  },
  {
   "cell_type": "code",
   "execution_count": null,
   "id": "0f7b6904",
   "metadata": {},
   "outputs": [],
   "source": []
  }
 ],
 "metadata": {
  "kernelspec": {
   "display_name": "Python 3 (ipykernel)",
   "language": "python",
   "name": "python3"
  },
  "language_info": {
   "codemirror_mode": {
    "name": "ipython",
    "version": 3
   },
   "file_extension": ".py",
   "mimetype": "text/x-python",
   "name": "python",
   "nbconvert_exporter": "python",
   "pygments_lexer": "ipython3",
   "version": "3.9.15"
  }
 },
 "nbformat": 4,
 "nbformat_minor": 5
}
