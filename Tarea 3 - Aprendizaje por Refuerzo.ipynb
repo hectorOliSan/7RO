{
 "cells": [
  {
   "cell_type": "markdown",
   "id": "59504e33",
   "metadata": {},
   "source": [
    "# > Laberinto - Algoritmo de Q-Learning\n",
    "\n",
    "Crea un programa en Python que usando el algoritmo Q-Learning, resuelva un \n",
    "laberinto, representado mediante la matriz MAZE de 10x10.\n",
    "\n",
    "**RÚBRICA**:\n",
    "- (4 Puntos) El algoritmo muestra soluciones aceptables.\n",
    "- (2 Puntos) Se crean y comentan los métodos. \n",
    "- (2 Puntos) Uso del vocabulario correcto así como explicación de los hiperparámetos (factor de aprendizaje, factor de descuento etc).\n",
    "- (2 Puntos) Usa ChatGPT para que te indique como crear la interfaz gráfica en JavaScript del juego del comococos para el  problema actual.\n",
    "\n",
    "Se subirá un archivo PDF con el notebook de Jupiter incluyendo la ejecución y los markdown con las explicaciones."
   ]
  },
  {
   "cell_type": "code",
   "execution_count": 16,
   "id": "3d1fbb41",
   "metadata": {},
   "outputs": [],
   "source": [
    "# Importación de librerías\n",
    "\n",
    "import numpy as np\n",
    "import matplotlib.pyplot as plt\n",
    "from matplotlib.image import imread"
   ]
  },
  {
   "cell_type": "code",
   "execution_count": 17,
   "id": "c361fba6",
   "metadata": {},
   "outputs": [
    {
     "data": {
      "text/plain": [
       "<matplotlib.image.AxesImage at 0x1f9b6a9f160>"
      ]
     },
     "execution_count": 17,
     "metadata": {},
     "output_type": "execute_result"
    },
    {
     "data": {
      "image/png": "[encoded data removed]",
      "text/plain": [
       "<Figure size 640x480 with 1 Axes>"
      ]
     },
     "metadata": {},
     "output_type": "display_data"
    }
   ],
   "source": [
    "# Pasamos la imagen a una matriz\n",
    "\n",
    "imageToMatrice  = imread('./images/laberinto10.png')\n",
    "plt.imshow(imageToMatrice)"
   ]
  },
  {
   "cell_type": "code",
   "execution_count": 18,
   "id": "28fee2da",
   "metadata": {},
   "outputs": [
    {
     "name": "stdout",
     "output_type": "stream",
     "text": [
      "[[0 0 0 0 0 0 0 0 0 0]\n",
      " [1 1 0 1 0 1 0 1 0 0]\n",
      " [0 1 0 1 1 1 1 1 1 0]\n",
      " [0 1 0 1 0 0 1 0 0 0]\n",
      " [0 1 1 1 1 0 1 1 1 0]\n",
      " [0 0 0 0 1 0 0 0 1 0]\n",
      " [0 1 0 1 1 1 0 1 1 0]\n",
      " [0 1 0 1 0 0 0 0 0 0]\n",
      " [0 1 1 1 1 1 1 1 1 1]\n",
      " [0 0 0 0 0 0 0 0 0 0]]\n"
     ]
    },
    {
     "data": {
      "text/plain": [
       "<matplotlib.image.AxesImage at 0x1f9b6b06a00>"
      ]
     },
     "execution_count": 18,
     "metadata": {},
     "output_type": "execute_result"
    },
    {
     "data": {
      "image/png": "[encoded data removed]",
      "text/plain": [
       "<Figure size 640x480 with 1 Axes>"
      ]
     },
     "metadata": {},
     "output_type": "display_data"
    }
   ],
   "source": [
    "n = 10 # 10x10 píxeles - Tamaño de la Matriz\n",
    "\n",
    "# Creamos la Matriz maze\n",
    "maze = np.zeros((n,n),dtype=int)\n",
    "\n",
    "# Copiamos la capa 0 en el maze\n",
    "for i in range(0,n):\n",
    "    for j in range(0,n):\n",
    "        maze[i,j] = imageToMatrice[i,j,-1]\n",
    "print(maze)\n",
    "plt.imshow(maze)"
   ]
  },
  {
   "cell_type": "code",
   "execution_count": 19,
   "id": "762c6b87",
   "metadata": {},
   "outputs": [],
   "source": [
    "# Creación de Matriz de marcado\n",
    "\n",
    "mark = np.zeros((n,n),dtype=int)\n",
    "mark[1,0] = 1 # Estado inicial"
   ]
  },
  {
   "cell_type": "markdown",
   "id": "f19654de",
   "metadata": {},
   "source": [
    "AHORA CREAMOS LA TABLA DE TRANSICIONES\n",
    "1. CREAMOS UNA CLASE ESTADO QUE CONTENGA LAS COORDENADAS X E Y \n",
    "2. RECORREMOS LA IMAGEN CON DOS BUCLES FOR Y CREAMOS UN ESTADO PARA CADA PÍXEL AMARILLO\n",
    "3. CREAMOS LA TABLA DE TRANSICIONES DEL NÚMERO DE ESTADOS x 4 (acciones) inicializada a -1\n",
    "4. Probamos para cada estado qué acciones llevan a otro estado (píxel amarillo) y lo añadimos a la tabla\n",
    "5. Creamos la tabla de recompensas inicializada a -1, salvo la desde los estados (puede ser solo uno) que conduzca a la salida, que valdrá 100\n",
    "6. Entrenar el agente\n",
    "7. Mostrar el camino correcto"
   ]
  },
  {
   "cell_type": "code",
   "execution_count": 20,
   "id": "2fe43c05",
   "metadata": {},
   "outputs": [],
   "source": [
    "# 1. CREAMOS UNA CLASE ESTADO QUE CONTENGA LAS COORDENADAS X E Y\n",
    "\n",
    "class Estado:\n",
    "    def __init__(self,x,y):\n",
    "        self.x = x\n",
    "        self.y = y\n",
    "        \n",
    "    def getX(self):\n",
    "        return self.x\n",
    "    \n",
    "    def getY(self):\n",
    "        return self.y\n",
    "    \n",
    "    def __str__(self):\n",
    "        return f'[{self.x},{self.y}]'\n",
    "\n",
    "    def __repr__(self) -> str:\n",
    "        return f'[{self.x},{self.y}]'\n",
    "\n",
    "    def __eq__(self, other):\n",
    "        if isinstance(other, Estado):\n",
    "            return self.x == other.x and self.y == other.y\n",
    "        return False"
   ]
  },
  {
   "cell_type": "code",
   "execution_count": 21,
   "id": "54934cf4",
   "metadata": {},
   "outputs": [
    {
     "name": "stdout",
     "output_type": "stream",
     "text": [
      "[[1,0], [1,1], [1,3], [1,5], [1,7], [2,1], [2,3], [2,4], [2,5], [2,6], [2,7], [2,8], [3,1], [3,3], [3,6], [4,1], [4,2], [4,3], [4,4], [4,6], [4,7], [4,8], [5,4], [5,8], [6,1], [6,3], [6,4], [6,5], [6,7], [6,8], [7,1], [7,3], [8,1], [8,2], [8,3], [8,4], [8,5], [8,6], [8,7], [8,8], [8,9]]\n"
     ]
    }
   ],
   "source": [
    "# 2. RECORREMOS LA IMAGEN CON DOS BUCLES FOR Y CREAMOS UN ESTADO \n",
    "# PARA CADA PÍXEL AMARILLo\n",
    "\n",
    "e = []\n",
    "for i in range(len(maze)):\n",
    "    for j in range(len(maze[i])):\n",
    "        if maze[i][j]:\n",
    "            e.append(Estado(i,j))\n",
    "print(e)"
   ]
  },
  {
   "cell_type": "code",
   "execution_count": 22,
   "id": "27628458",
   "metadata": {},
   "outputs": [],
   "source": [
    "# 3. CREAMOS LA TABLA DE TRANSICIONES DEL NÚMERO DE \n",
    "# ESTADOS x 4 (acciones) inicializada a -1\n",
    "\n",
    "T = np.full((len(e),4),-1)"
   ]
  },
  {
   "cell_type": "code",
   "execution_count": 23,
   "id": "8977e060",
   "metadata": {},
   "outputs": [],
   "source": [
    "# Matriz de movimiento\n",
    "\n",
    "move = np.zeros((4,2),dtype=int)\n",
    "# Derecha\n",
    "move[0,0] = 0\n",
    "move[0,1] = 1\n",
    "# Izquierda\n",
    "move[1,0] = 0\n",
    "move[1,1] = -1\n",
    "# Arriba\n",
    "move[2,0] = 1\n",
    "move[2,1] = 0\n",
    "# Abajo\n",
    "move[3,0] = -1\n",
    "move[3,1] = 0"
   ]
  },
  {
   "cell_type": "code",
   "execution_count": 24,
   "id": "c53b5b82",
   "metadata": {},
   "outputs": [
    {
     "name": "stdout",
     "output_type": "stream",
     "text": [
      "[[ 1 -1 -1 -1]\n",
      " [-1  0  5 -1]\n",
      " [-1 -1  6 -1]\n",
      " [-1 -1  8 -1]\n",
      " [-1 -1 10 -1]\n",
      " [-1 -1 12  1]\n",
      " [ 7 -1 13  2]\n",
      " [ 8  6 -1 -1]\n",
      " [ 9  7 -1  3]\n",
      " [10  8 14 -1]\n",
      " [11  9 -1  4]\n",
      " [-1 10 -1 -1]\n",
      " [-1 -1 15  5]\n",
      " [-1 -1 17  6]\n",
      " [-1 -1 19  9]\n",
      " [16 -1 -1 12]\n",
      " [17 15 -1 -1]\n",
      " [18 16 -1 13]\n",
      " [-1 17 22 -1]\n",
      " [20 -1 -1 14]\n",
      " [21 19 -1 -1]\n",
      " [-1 20 23 -1]\n",
      " [-1 -1 26 18]\n",
      " [-1 -1 29 21]\n",
      " [-1 -1 30 -1]\n",
      " [26 -1 31 -1]\n",
      " [27 25 -1 22]\n",
      " [-1 26 -1 -1]\n",
      " [29 -1 -1 -1]\n",
      " [-1 28 -1 23]\n",
      " [-1 -1 32 24]\n",
      " [-1 -1 34 25]\n",
      " [33 -1 -1 30]\n",
      " [34 32 -1 -1]\n",
      " [35 33 -1 31]\n",
      " [36 34 -1 -1]\n",
      " [37 35 -1 -1]\n",
      " [38 36 -1 -1]\n",
      " [39 37 -1 -1]\n",
      " [40 38 -1 -1]\n",
      " [-1 39 -1 -1]]\n"
     ]
    }
   ],
   "source": [
    "# 4. Probamos para cada estado qué acciones llevan \n",
    "# a otro estado (píxel amarillo) y lo añadimos a la tabla\n",
    "\n",
    "contE = 0\n",
    "for i in range(len(e)):\n",
    "    for mov in range(0,4):\n",
    "        newX = e[i].getX() + move[mov,0]\n",
    "        newY = e[i].getY() + move[mov,1]\n",
    "        if (newX < 10 and newY < 10) or (newX < 0 and newY < 0):\n",
    "            if maze[newX,newY] == 1:\n",
    "                T[i,mov] = e.index(Estado(newX,newY))\n",
    "print(T)"
   ]
  },
  {
   "cell_type": "code",
   "execution_count": 25,
   "id": "8a356066",
   "metadata": {},
   "outputs": [
    {
     "name": "stdout",
     "output_type": "stream",
     "text": [
      "[[ -1  -1  -1  -1]\n",
      " [ -1  -1  -1  -1]\n",
      " [ -1  -1  -1  -1]\n",
      " [ -1  -1  -1  -1]\n",
      " [ -1  -1  -1  -1]\n",
      " [ -1  -1  -1  -1]\n",
      " [ -1  -1  -1  -1]\n",
      " [ -1  -1  -1  -1]\n",
      " [ -1  -1  -1  -1]\n",
      " [ -1  -1  -1  -1]\n",
      " [ -1  -1  -1  -1]\n",
      " [ -1  -1  -1  -1]\n",
      " [ -1  -1  -1  -1]\n",
      " [ -1  -1  -1  -1]\n",
      " [ -1  -1  -1  -1]\n",
      " [ -1  -1  -1  -1]\n",
      " [ -1  -1  -1  -1]\n",
      " [ -1  -1  -1  -1]\n",
      " [ -1  -1  -1  -1]\n",
      " [ -1  -1  -1  -1]\n",
      " [ -1  -1  -1  -1]\n",
      " [ -1  -1  -1  -1]\n",
      " [ -1  -1  -1  -1]\n",
      " [ -1  -1  -1  -1]\n",
      " [ -1  -1  -1  -1]\n",
      " [ -1  -1  -1  -1]\n",
      " [ -1  -1  -1  -1]\n",
      " [ -1  -1  -1  -1]\n",
      " [ -1  -1  -1  -1]\n",
      " [ -1  -1  -1  -1]\n",
      " [ -1  -1  -1  -1]\n",
      " [ -1  -1  -1  -1]\n",
      " [ -1  -1  -1  -1]\n",
      " [ -1  -1  -1  -1]\n",
      " [ -1  -1  -1  -1]\n",
      " [ -1  -1  -1  -1]\n",
      " [ -1  -1  -1  -1]\n",
      " [ -1  -1  -1  -1]\n",
      " [ -1  -1  -1  -1]\n",
      " [100  -1  -1  -1]\n",
      " [ -1  -1  -1  -1]]\n"
     ]
    }
   ],
   "source": [
    "# 5. Creamos la tabla de recompensas inicializada a -1, \n",
    "# salvo la desde los estados (puede ser solo uno) que \n",
    "# conduzca a la salida, que valdrá 100\n",
    "\n",
    "R = np.full((len(e),4),-1,dtype=int)\n",
    "R[39,0] = 100 # Final\n",
    "print(R)"
   ]
  },
  {
   "cell_type": "code",
   "execution_count": 26,
   "id": "d1880f6d",
   "metadata": {},
   "outputs": [
    {
     "name": "stdout",
     "output_type": "stream",
     "text": [
      "[[ 30.17444023   0.           0.           0.        ]\n",
      " [  0.          27.66571821  32.81520024   0.        ]\n",
      " [  0.           0.          38.52099749   0.        ]\n",
      " [  0.           0.          32.81520024   0.        ]\n",
      " [  0.           0.          27.6657182    0.        ]\n",
      " [  0.           0.          35.59494762  30.17444023]\n",
      " [ 35.59494762   0.          41.60104999  35.59494762]\n",
      " [ 32.81520024  38.52099749   0.           0.        ]\n",
      " [ 30.17444023  35.59494762   0.          30.17444023]\n",
      " [ 27.66571821  32.81520024  27.66571821   0.        ]\n",
      " [ 25.2824323   30.17444023   0.          25.28243209]\n",
      " [  0.          27.66571821   0.           0.        ]\n",
      " [  0.           0.          38.52099749  32.81520024]\n",
      " [  0.           0.          44.84321052  38.52099749]\n",
      " [  0.           0.          25.2824323   30.17444023]\n",
      " [ 41.60104999   0.           0.          35.59494762]\n",
      " [ 44.84321052  38.52099749   0.           0.        ]\n",
      " [ 48.25601107  41.60104999   0.          41.60104999]\n",
      " [  0.          44.84321052  51.84843271   0.        ]\n",
      " [ 23.01831068   0.           0.          27.66571821]\n",
      " [ 20.86739515  25.2824323    0.           0.        ]\n",
      " [  0.          23.01831069  18.82402539   0.        ]\n",
      " [  0.           0.          55.62992917  48.25601107]\n",
      " [  0.           0.          16.88282411  20.86739515]\n",
      " [  0.           0.          55.62992916   0.        ]\n",
      " [ 55.62992917   0.          63.80047553   0.        ]\n",
      " [ 51.84843271  59.61045175   0.          51.84843271]\n",
      " [  0.          55.62992917   0.           0.        ]\n",
      " [ 16.88282411   0.           0.           0.        ]\n",
      " [  0.          15.0386829    0.          18.82402539]\n",
      " [  0.           0.          59.61045175  51.8484327 ]\n",
      " [  0.           0.          68.21102687  59.61045175]\n",
      " [ 63.80047553   0.           0.          55.62992916]\n",
      " [ 68.21102687  59.61045175   0.           0.        ]\n",
      " [ 72.8537125   63.80047553   0.          63.80047553]\n",
      " [ 77.74075     68.21102687   0.           0.        ]\n",
      " [ 82.885       72.8537125    0.           0.        ]\n",
      " [ 88.3         77.74075      0.           0.        ]\n",
      " [ 94.          82.885        0.           0.        ]\n",
      " [100.          88.29999992   0.           0.        ]\n",
      " [  0.           0.           0.           0.        ]]\n"
     ]
    }
   ],
   "source": [
    "# 6. Entrenar el agente\n",
    "\n",
    "v = 0.8 # factor de aprendizaje\n",
    "y = 0.95 # factor de descuento\n",
    "s = 0\n",
    "entrenar = 0\n",
    "Q = np.zeros((len(e),4),dtype=float)\n",
    "while entrenar < 10000:\n",
    "    a = np.random.randint(4)\n",
    "    while T[s,a]==-1:\n",
    "        a = np.random.randint(4)\n",
    "    siguiente = T[s,a]\n",
    "    Q[s,a] = (1-v)*Q[s,a]+v*(R[s,a]+y*max(Q[siguiente,]))\n",
    "    if siguiente != 40: s = siguiente\n",
    "    else: s = 0\n",
    "    entrenar += 1\n",
    "print(Q)"
   ]
  },
  {
   "cell_type": "code",
   "execution_count": 33,
   "id": "f52f3380",
   "metadata": {},
   "outputs": [
    {
     "name": "stdout",
     "output_type": "stream",
     "text": [
      "1 Estado:  [1,1]\n",
      "5 Estado:  [2,1]\n",
      "12 Estado:  [3,1]\n",
      "15 Estado:  [4,1]\n",
      "16 Estado:  [4,2]\n",
      "17 Estado:  [4,3]\n",
      "18 Estado:  [4,4]\n",
      "22 Estado:  [5,4]\n",
      "26 Estado:  [6,4]\n",
      "25 Estado:  [6,3]\n",
      "31 Estado:  [7,3]\n",
      "34 Estado:  [8,3]\n",
      "35 Estado:  [8,4]\n",
      "36 Estado:  [8,5]\n",
      "37 Estado:  [8,6]\n",
      "38 Estado:  [8,7]\n",
      "39 Estado:  [8,8]\n",
      "40 Estado:  [8,9]\n",
      "fin\n"
     ]
    }
   ],
   "source": [
    "# 7. Mostrar el camino correcto\n",
    "\n",
    "s = 0\n",
    "seguir = True\n",
    "cont = 2\n",
    "while seguir:\n",
    "    a = np.argmax(Q[s,])\n",
    "    es = e[T[s,a]]\n",
    "    print(T[s,a], 'Estado: ', es)\n",
    "    mark[es.getX(), es.getY()] = cont\n",
    "    s = T[s,a]\n",
    "    cont+=1\n",
    "    if s == len(e)-1:\n",
    "        print(\"fin\")\n",
    "        seguir = False"
   ]
  },
  {
   "cell_type": "code",
   "execution_count": 34,
   "id": "97e1c7a5",
   "metadata": {},
   "outputs": [
    {
     "data": {
      "text/plain": [
       "<matplotlib.image.AxesImage at 0x1f9b7cf0d30>"
      ]
     },
     "execution_count": 34,
     "metadata": {},
     "output_type": "execute_result"
    },
    {
     "data": {
      "image/png": "[encoded data removed]",
      "text/plain": [
       "<Figure size 640x480 with 1 Axes>"
      ]
     },
     "metadata": {},
     "output_type": "display_data"
    }
   ],
   "source": [
    "plt.imshow(maze)"
   ]
  },
  {
   "cell_type": "code",
   "execution_count": 35,
   "id": "66b5e2c9",
   "metadata": {},
   "outputs": [
    {
     "name": "stdout",
     "output_type": "stream",
     "text": [
      "[[ 0  0  0  0  0  0  0  0  0  0]\n",
      " [ 1  2  0  0  0  0  0  0  0  0]\n",
      " [ 0  3  0  0  0  0  0  0  0  0]\n",
      " [ 0  4  0  0  0  0  0  0  0  0]\n",
      " [ 0  5  6  7  8  0  0  0  0  0]\n",
      " [ 0  0  0  0  9  0  0  0  0  0]\n",
      " [ 0  0  0 11 10  0  0  0  0  0]\n",
      " [ 0  0  0 12  0  0  0  0  0  0]\n",
      " [ 0  0  0 13 14 15 16 17 18 19]\n",
      " [ 0  0  0  0  0  0  0  0  0  0]]\n"
     ]
    },
    {
     "data": {
      "text/plain": [
       "<matplotlib.image.AxesImage at 0x1f9b7d9ecd0>"
      ]
     },
     "execution_count": 35,
     "metadata": {},
     "output_type": "execute_result"
    },
    {
     "data": {
      "image/png": "[encoded data removed]",
      "text/plain": [
       "<Figure size 640x480 with 1 Axes>"
      ]
     },
     "metadata": {},
     "output_type": "display_data"
    }
   ],
   "source": [
    "print(mark)\n",
    "plt.imshow(mark)"
   ]
  },
  {
   "cell_type": "code",
   "execution_count": null,
   "id": "7c1c1859",
   "metadata": {},
   "outputs": [],
   "source": []
  }
 ],
 "metadata": {
  "kernelspec": {
   "display_name": "Python 3 (ipykernel)",
   "language": "python",
   "name": "python3"
  },
  "language_info": {
   "codemirror_mode": {
    "name": "ipython",
    "version": 3
   },
   "file_extension": ".py",
   "mimetype": "text/x-python",
   "name": "python",
   "nbconvert_exporter": "python",
   "pygments_lexer": "ipython3",
   "version": "3.9.15"
  }
 },
 "nbformat": 4,
 "nbformat_minor": 5
}
